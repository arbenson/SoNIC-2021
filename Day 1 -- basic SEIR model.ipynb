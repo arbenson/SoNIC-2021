{
 "cells": [
  {
   "cell_type": "markdown",
   "metadata": {},
   "source": [
    "# Cornell SoNIC Workshop, Day 1\n",
    "\n",
    "The research goal this week is to explore covid-19 modeling for a university campus. We will write code to simulate a **S**usceptible-**E**xposed-**I**nfectious-**R**ecovered (SEIR) model and study the sensitivty of this model to various parameters or simplifications. The SEIR model was the basis for Cornell's fall 2020 reactivation plan, which is detailed in the report listed in the readings below. \n",
    "\n",
    "\n",
    "Associated readings:\n",
    "<ul>    \n",
    "    <li>Networks, Crowds, and Markets: Reasoning about a Highly Connected World, \n",
    "        <a href=\"https://www.cs.cornell.edu/home/kleinber/networks-book/networks-book-ch21.pdf\">Chapter 21: Epidemics</a>. David Easley and Jon Kleinberg. </li>\n",
    "    <li><a href=\"https://covid.cornell.edu/_assets/files/covid_19_modeling_main_report.pdf\">COVID-19 Mathematical Modeling for Cornel's Fall Semester</a> (Sections 1–2.1). J. Massey Cashore, Ning Duan, Alyf Janmohamed, Jiayue Wan, Yujia Zhang, Shane Henderson, David Shmoys, and Peter Frazier.</li>\n",
    "</ul>"
   ]
  },
  {
   "cell_type": "markdown",
   "metadata": {},
   "source": [
    "### The SEIR Model\n",
    "\n",
    "The SEIR model is a [compartmental model](https://en.wikipedia.org/wiki/Compartmental_models_in_epidemiology). The basic idea is that, at every step, each individual is in one of four states:\n",
    "<ol>\n",
    "    <li><i>Susceptible (S)</i>: able to contract the virus</li>\n",
    "    <li><i>Exposed (E)</i>: already infected but cannot infect others</li>\n",
    "    <li><i>Infectious (I)</i>: infected and can infect others</li>\n",
    "    <li><i>Recovered (R)</i>: healthy and no longer able to contract the virus</li>    \n",
    "</ol>\n",
    "\n",
    "The virus propagates in steps, and we will think of each step as one day in real time. At each step, susceptible people may become exposed, exposed people may become infectious, and infectious people may infect others and/or recover. We will assue that these events happen roughly \"at once\" at the end of each day (this is simplification, but a useful one for simulations). There are many ways to model the various compartments of the SEIR model&mdash;the Cornell report is 54 pages! We will examine a few over the next few days.\n",
    "\n",
    "Let's get started with some code."
   ]
  },
  {
   "cell_type": "code",
   "execution_count": null,
   "metadata": {},
   "outputs": [],
   "source": [
    "# Libraries we will need today\n",
    "from enum import Enum, unique\n",
    "import random\n",
    "import matplotlib.pyplot as plt\n",
    "import numpy as np"
   ]
  },
  {
   "cell_type": "code",
   "execution_count": null,
   "metadata": {},
   "outputs": [],
   "source": [
    "# The simulation will use these two classes, which does not need editing.\n",
    "\n",
    "@unique\n",
    "class SEIR_State(Enum):\n",
    "    \"\"\" Class representing the state of a person. \"\"\"\n",
    "    S = 1  # SUSCEPTIBLE\n",
    "    E = 2  # EXPOSED\n",
    "    I = 3  # INFECTIOUS\n",
    "    R = 4  # RECOVERED\n",
    "\n",
    "class Person:\n",
    "    \"\"\"  Class representing a person in the population, keeping track of \n",
    "    their state and the number of days (complete simulation steps) that the \n",
    "    person has been exposed or infected.\n",
    "    \n",
    "    Attributes:\n",
    "        state: An SEIR_State indicating the state of the person\n",
    "        days_spent_in_E: an integer number of days as exposed\n",
    "        days_spent_in_I: an integer number of days as infectious\n",
    "        max_days_in_E: an integer for the number of days that this person\n",
    "                       stays in (E) before (I); defaults to 2 for everyone\n",
    "        max_days_in_I: an integer for the number of days that this person\n",
    "                       stays in (I) before (R); defaults to 14 for everyone        \n",
    "    \"\"\"\n",
    "    def __init__(self, state):\n",
    "        self.state = state\n",
    "        self.days_spent_in_E = 0\n",
    "        self.days_spent_in_I = 0\n",
    "        self.max_days_in_E = 2\n",
    "        self.max_days_in_I = 14"
   ]
  },
  {
   "cell_type": "markdown",
   "metadata": {},
   "source": [
    "For today, let's make the following assumptions:\n",
    "\n",
    "<ul>\n",
    "    <li>Each (I) person initiates contact with a fixed number $c$ of other contacts. These contacts could be in any one of the states (S, E, I, or R), and the $c$ individuals are sampled uniformly at random from the population. For each (S) contact, the infection spreads to that person with probability $p$.</li>\n",
    "    <li>Every day (each time step), each (S) person also has a probability $r$ of becoming infected from an external source outside of the university population.</li>\n",
    "    <li>A person is in the (E) state for 2 days (2 complete time steps) before transitioning to (I).</li>\n",
    "    <li>A person is in the (I) state for 14 days (14 complete time steps) before transitioning to (R).</li>\n",
    "    <li>At the beginning of the simulation, there are $N_{S,0}$, $N_{E,0}$, $N_{I,0}$, and $N_{R,0}$ people in the S, E, I, and R states. If someone is in the (E) or (I) at initialization, the number of days spent in that state so far is sampled uniformly at random (see below).\n",
    "</ul>"
   ]
  },
  {
   "cell_type": "code",
   "execution_count": null,
   "metadata": {},
   "outputs": [],
   "source": [
    "# Get a list of people for initializing the simulation. This does not need editing.\n",
    "\n",
    "def initialize_person_list(N_S0, N_E0, N_I0, N_R0):\n",
    "    \"\"\"Form the initial state of the simulation.\n",
    "    \n",
    "    Args:\n",
    "        N_S0: number of susceptible individuals\n",
    "        N_E0: number of exposed individuals\n",
    "        N_I0: number of infectious individuals\n",
    "        N_R0: number of recovered individuals\n",
    "\n",
    "    Returns:\n",
    "        List of person objects of length equal \n",
    "        to the sum of N_S0, N_E0, N_I0, and N_R0.\n",
    "    \"\"\"\n",
    "    \n",
    "    plist = []\n",
    "\n",
    "    for _ in range(N_S0):\n",
    "        plist.append(Person(SEIR_State.S))\n",
    "\n",
    "    for _ in range(N_E0):\n",
    "        person = Person(SEIR_State.E)\n",
    "        person.days_spent_in_E = np.random.choice(person.max_days_in_E - 1, 1)[0]\n",
    "        plist.append(person)\n",
    "        \n",
    "    for _ in range(N_I0):\n",
    "        person = Person(SEIR_State.I)\n",
    "        person.days_spent_in_E = person.max_days_in_E\n",
    "        person.days_spent_in_I = np.random.choice(person.max_days_in_I - 1, 1)[0]\n",
    "        plist.append(person)\n",
    "        \n",
    "    for _ in range(N_R0):\n",
    "        person = Person(SEIR_State.R)\n",
    "        person.days_spent_in_E = person.max_days_in_E\n",
    "        person.days_spent_in_E = person.max_days_in_I\n",
    "        plist.append(person)\n",
    "        \n",
    "    return plist"
   ]
  },
  {
   "cell_type": "code",
   "execution_count": null,
   "metadata": {},
   "outputs": [],
   "source": [
    "# Main code for a step of the simulation. This needs editing.\n",
    "\n",
    "def basic_SEIR_step(person_list, p, r, c):\n",
    "    \"\"\"Simulate one SEIR step.\n",
    "\n",
    "    Args:\n",
    "        person_list: list of person objects\n",
    "        p: probability of contact transmission\n",
    "        r: probability of infection from external source \n",
    "        c: number of others that one person comes into contact with\n",
    "    \"\"\"\n",
    "\n",
    "    # Determine (S) people that become (E) at the end of this step.\n",
    "    S_to_E = []\n",
    "    \n",
    "    # Determine (E) people that become (I) at the end of this step.\n",
    "    E_to_I = []\n",
    "\n",
    "    # Determine (I) people who become (R) at the end of this step.\n",
    "    I_to_R = []\n",
    "\n",
    "\n",
    "    # Update S --> E cases\n",
    "    for index in S_to_E:\n",
    "        person_list[index].state = SEIR_State.E\n",
    "\n",
    "    # Update E --> I cases\n",
    "    for index in E_to_I:\n",
    "        person_list[index].state = SEIR_State.I\n",
    "\n",
    "    # Update I --> R cases        \n",
    "    for index in I_to_R:\n",
    "        person_list[index].state = SEIR_State.R"
   ]
  },
  {
   "cell_type": "code",
   "execution_count": null,
   "metadata": {},
   "outputs": [],
   "source": [
    "# Basic loop for the simulation. This needs editing.\n",
    "\n",
    "def run_simulation(N_S0, N_E0, N_I0, N_R0, p, r, c, T):\n",
    "    \"\"\"Simulate T SEIR steps.\n",
    "    \n",
    "    Args:\n",
    "        N_S0: number of susceptible individuals at initialization\n",
    "        N_E0: number of exposed individuals at initialization\n",
    "        N_I0: number of infectious individuals at initialization\n",
    "        N_R0: number of recovered individuals at initialization  \n",
    "        p: probability of contact transmission\n",
    "        r: probability of infection from external source \n",
    "        c: number of others with whom an (I) person initiates contact\n",
    "        T: number of time steps\n",
    "    \n",
    "    Returns:\n",
    "        data needed for plots (see below)\n",
    "    \"\"\"\n",
    "    \n",
    "    person_list = initialize_person_list(N_S0, N_E0, N_I0, N_R0)\n",
    "    \n",
    "    # Run simulation steps\n",
    "    for t in range(T):\n",
    "        basic_SEIR_step(person_list, p, r, c)"
   ]
  },
  {
   "cell_type": "markdown",
   "metadata": {},
   "source": [
    "Now, let's run the simulation. To do this, we need to set our parameters.\n",
    "\n",
    "First, determine some reasonable parameter settings. Then, make a plot that shows the number of newly exposed individuals at each time step for $T = 100$ time steps. Make another plot that shows the cumulative fraction of initially susceptible individuals that have become exposed at any point (numpy's <a href=\"https://numpy.org/doc/stable/reference/generated/numpy.cumsum.html\">cumsum function</a> may be useful)."
   ]
  },
  {
   "cell_type": "code",
   "execution_count": null,
   "metadata": {},
   "outputs": [],
   "source": [
    "# Make plots here (need to edit code above)"
   ]
  },
  {
   "cell_type": "markdown",
   "metadata": {},
   "source": [
    "Next, let's examine the *sensitivity* of our model by seeing how the output responds to certain changes in the input. Make the same plots as before, but overlay curves for varying parameters:\n",
    "<ol>\n",
    "    <li>$c$ varies with all other parameters fixed</li>\n",
    "    <li>$p$ varies with all other parameters fixed</li>\n",
    "    <li>$r$ varies with all other parameters fixed</li>\n",
    "</ol>"
   ]
  },
  {
   "cell_type": "code",
   "execution_count": null,
   "metadata": {},
   "outputs": [],
   "source": [
    "# Make plots here"
   ]
  },
  {
   "cell_type": "markdown",
   "metadata": {},
   "source": [
    "### Basic reproductive number\n",
    "\n",
    "An epidemiological term you may have heard in the news is $R_0$, pronounced like R-naught or R-zero, which is also sometimes called the basic reproductive number. This is the average number of new infections caused by a single individual who becomes infected. At a high level, if $R_0 < 1$, then the virus will tend to die out and if $R_0 > 1$, the virus will go on to infect most of the population (see the Easley and Kleinberg reading for some of the mathematics). One <a href=\"https://www.nejm.org/doi/full/10.1056/nejmoa2001316\">study</a>\n",
    "estimated $R_0 \\approx 2.2$ in early covid-19 spread.\n",
    "\n",
    "If $r = 0.0$, we would expect an $R_0$ to be a bit less than $14 \\cdot cp$ (why?). Try $14 \\cdot cp = 2.0$ and $14 \\cdot cp = 0.75$ and see how much of the population becomes exposed."
   ]
  },
  {
   "cell_type": "code",
   "execution_count": null,
   "metadata": {},
   "outputs": [],
   "source": [
    "# Test of R_0"
   ]
  },
  {
   "cell_type": "markdown",
   "metadata": {},
   "source": [
    "## Discussion points\n",
    "\n",
    "<ol>\n",
    "    <li>What are the biggest simplifications of the SEIR model, and how could we address them?</li>\n",
    "    <li>How might this model misrepresent certain individuals?</li>\n",
    "    <li>How should we determine the parameters of the model?</li>\n",
    "</ol>"
   ]
  },
  {
   "cell_type": "code",
   "execution_count": null,
   "metadata": {},
   "outputs": [],
   "source": []
  }
 ],
 "metadata": {
  "kernelspec": {
   "display_name": "Python 3",
   "language": "python",
   "name": "python3"
  },
  "language_info": {
   "codemirror_mode": {
    "name": "ipython",
    "version": 3
   },
   "file_extension": ".py",
   "mimetype": "text/x-python",
   "name": "python",
   "nbconvert_exporter": "python",
   "pygments_lexer": "ipython3",
   "version": "3.8.2"
  }
 },
 "nbformat": 4,
 "nbformat_minor": 4
}
