{
 "cells": [
  {
   "cell_type": "markdown",
   "metadata": {},
   "source": [
    "# Cornell SoNIC Workshop, Day 3\n",
    "\n",
    "Yesterday, we experimented with various intervention models to see how they affected the simulation results from the SEIR model. However, these models make several simplifications about reality. Today, the goal is to add a new component to simulations more realistic. This will be more open-ended than the research on Days 1 and 2.\n",
    "\n",
    "\n",
    "Associated readings:\n",
    "<ul>    \n",
    "    <li><a href=\"https://covid.cornell.edu/_assets/files/covid_19_modeling_main_report.pdf\">COVID-19 Mathematical Modeling for Cornel's Fall Semester</a> (section entitled <i>Current Limitations of the Simulation Model</i>). J. Massey Cashore, Ning Duan, Alyf Janmohamed, Jiayue Wan, Yujia Zhang, Shane Henderson, David Shmoys, and Peter Frazier.</li>\n",
    "</ul>"
   ]
  },
  {
   "cell_type": "markdown",
   "metadata": {},
   "source": [
    "For today's research lab, implement at least one extension of your model. We have noted some simplifications over the last couple of days, which could provide ideas. Below are some more ideas, and feel free to come up with your own, too.\n",
    "\n",
    "<ol>\n",
    "<li>Superspreading events. Large social gatherings like parties might lead to many new infections. See \n",
    "    <a href=\"https://www.nature.com/articles/d41586-021-00460-x\">here</a> and \n",
    "    <a href=\"https://news.mit.edu/2020/super-spreading-covid-transmission-1102\">here</a>\n",
    "    for some background.</li>    \n",
    "<li>Superspreading people. The probability of transmission involving one infected individual may be very high. This has been <a href=\"https://www.nature.com/articles/d41586-021-00460-x\">studied</a> as a possible cause for massive spread.</li>\n",
    "<li>Social structure. Our contacts are not uniform random samples. For example, we are more likely to come into contact with people living nearby or our friends. Incorporating social structure has \n",
    "    <a href=\"https://www.nature.com./articles/s41586-020-2923-3\">produced</a> \n",
    "    more predictive SEIR models.</li>\n",
    "<li>Alert levels. Institutions have implemented \"alert levels\" that modify policies based on how many cases there are (for an example, see <a href=\"https://covid.cornell.edu/testing/dashboard/#about-alerts\">Cornell's system</a>). How would you determine these levels and when to transition between them?</li>\n",
    "<li>Travel. Many people might travel at the same time for events such as holidays, which could increase their probability of exposure at the same time. Mobility data has \n",
    "    <a href=\"https://sciencemag.org/content/368/6490/493\">been</a> \n",
    "    <a href=\"https://advances.sciencemag.org/content/6/23/eabc0764\">used</a> \n",
    "    to analyze the spread of covid-19 and the effects of travel restrictions.</li>    \n",
    "<li>Parameter variation. We assumed fixed parameters in our model, but making them random would reflect natural fluctuations. For instance, the time a person spends in the (I) state might be random. Random parameters were a major component in the <a href=\"https://covid.cornell.edu/_assets/files/covid_19_modeling_main_report.pdf\">Cornell model</a>.</li>\n",
    "<li>Imperfect contact tracing. There can be cases where a person purposefully fails to report a contact (e.g., if the contact does not want to quarantine and tells the infected person). Also, there may be some probability that the person just forgets or does not know that they made contact with someone. There is <a href=\"https://www.medrxiv.org/content/10.1101/2020.06.09.20124008v4.full\">evidence</a> that these factors harmed the UK's Test and Trace system.</li>\n",
    "<li>Imperfect quarantining. The extent to which individuals follow quarantining guidelines may vary.</li>\n",
    "</ol>"
   ]
  },
  {
   "cell_type": "markdown",
   "metadata": {},
   "source": [
    "Before testing any extension, first discuss what results you *expect* to see. Then run some simulations and see what happens!"
   ]
  },
  {
   "cell_type": "markdown",
   "metadata": {},
   "source": [
    "## Project presentation\n",
    "\n",
    "Tomorrow, we will do brief presentations of our results. For this, prepare one slide using Google Slides with the following information:\n",
    "<ol>\n",
    "    <li>A high-level description of the model extension(s) you chose and a brief explanation of the implementation.</li>\n",
    "    <li>A short description of what results you expected.</li>\n",
    "    <li>A plot showing the effects that you observed.</li>\n",
    "    <li>Names of group members.</li>    \n",
    "</ol>\n",
    "\n",
    "Email your slide to Professor Benson (arb@cs.cornell.edu) before 9:00am ET tomorrow."
   ]
  },
  {
   "cell_type": "code",
   "execution_count": null,
   "metadata": {},
   "outputs": [],
   "source": []
  }
 ],
 "metadata": {
  "kernelspec": {
   "display_name": "Python 3",
   "language": "python",
   "name": "python3"
  },
  "language_info": {
   "codemirror_mode": {
    "name": "ipython",
    "version": 3
   },
   "file_extension": ".py",
   "mimetype": "text/x-python",
   "name": "python",
   "nbconvert_exporter": "python",
   "pygments_lexer": "ipython3",
   "version": "3.8.2"
  }
 },
 "nbformat": 4,
 "nbformat_minor": 4
}
