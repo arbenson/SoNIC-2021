{
 "cells": [
  {
   "cell_type": "markdown",
   "metadata": {},
   "source": [
    "# Cornell SoNIC Workshop, Day 2\n",
    "\n",
    "Yesterday, we created a basic SEIR model. This gave us a sense of how a virus or disease might spread if we did nothing to try and stop it. Today, we will model *interventions* that limit the spread. The SEIR model gives us some basic ideas for what these interventions might be:\n",
    "\n",
    "<ol>    \n",
    "    <li>Reduce the number of contacts $c$. This might involve quarantining guidelines or making in-person events virtual.</li>\n",
    "    <li>Reduce the probability of transmission $p$. This could be accomplished with social distancing, moving indoor activities outdoors, or vaccines.</li>\n",
    "    <li>Reduce the probability of infection $r$ from external sources outside the population. Travel restrictions are one possibility.</li>\n",
    "</ol>\n",
    "\n",
    "Associated readings:\n",
    "<ul>    \n",
    "    <li><a href=\"https://covid.cornell.edu/_assets/files/covid_19_modeling_main_report.pdf\">COVID-19 Mathematical Modeling for Cornel's Fall Semester</a> (Sections 2.2 and 2.3). J. Massey Cashore, Ning Duan, Alyf Janmohamed, Jiayue Wan, Yujia Zhang, Shane Henderson, David Shmoys, and Peter Frazier.</li>\n",
    "</ul>"
   ]
  },
  {
   "cell_type": "markdown",
   "metadata": {},
   "source": [
    "### Self-reporting\n",
    "\n",
    "Quarantining was a key way of reducing the number of contacts involving infectious individuals. To do this, though, we need to know who is sick. We first consider *self-reporting*. Someone who thinks they are sick may choose to quarantine themselves. However, one aspect of covid-19 is that infectiousness precedes symptoms. We will model this by saying that a person in the (I) state is asymptomatic for the first three days and symptomatic for the remaining 11. Each day that someone experience symptoms, there is some probability that they will self-report: $p_{\\text{sr}} \\equiv \\text{Prob(a person self-reports on a given day $\\;\\vert\\;$ they are experiencing symptoms)}$.\n",
    "If an (I) person self-reports, they are quarantined until they reach the (R) state, and do not come into contact with anyone else.\n",
    "\n",
    "Starting with your code from yesterday, implement self-reporting."
   ]
  },
  {
   "cell_type": "code",
   "execution_count": null,
   "metadata": {},
   "outputs": [],
   "source": [
    "# Updated code goes here"
   ]
  },
  {
   "cell_type": "markdown",
   "metadata": {},
   "source": [
    "Next, using some of the parameters from yesterday, make a plot that shows the number of newly exposed individuals at each time step for $T = 100$ time steps, for various values of $p_{\\text{sr}}$. Also make a plot for the cumulative fraction of exposed individuals."
   ]
  },
  {
   "cell_type": "code",
   "execution_count": null,
   "metadata": {},
   "outputs": [],
   "source": [
    "# Make plots here"
   ]
  },
  {
   "cell_type": "markdown",
   "metadata": {},
   "source": [
    "### Testing\n",
    "\n",
    "Testing has played a key role in identifying people with the virus. We will assume that the virus is not detectable in (E) people but is detectable in (I) people (both symptomatic and asymptomatic infectious people). However, testing requires medical resources and demands on time, so we cannot test everyone every day. Instead, we will assume that everyone gets tested just once in a span of $d$ days. Furthermore, each person is assigned randomly to one of $d$ testing groups. People in group 1 get their first test on day 1, people in group 2 get their first test on day 2, and so on. To keep things simple, we will assume that testing happens just after all self-reporting and that test results come back immediately.\n",
    "\n",
    "Any (I) person that tests positive will be quarantined, making no physical contacts until they are recovered (R). The tests are not perfect, though&mdash;there are some false negatives. Specifically, we will model this with a probability $p_{\\text{fn}} = \\text{Prob(test is negative $\\;\\vert\\;$ person is in (I) state)}$.\n",
    "\n",
    "Implement the testing and quarantine policy. Use your parameters from above with $p_{\\text{sr}} = 0.2$ and $p_{\\text{fn}} = 0.1$. Plot the number of newly exposed individuals at each time step for various $d$, as well as the cumulative fraction of exposed individuals."
   ]
  },
  {
   "cell_type": "code",
   "execution_count": null,
   "metadata": {},
   "outputs": [],
   "source": [
    "# Make plot here"
   ]
  },
  {
   "cell_type": "markdown",
   "metadata": {},
   "source": [
    "### Contact tracing\n",
    "\n",
    "If one person has the virus, then their past contacts are likely candidates for exposure. We will model an intervention strategy called *contact tracing*, where we quarantine the contacts of someone who tests positive. To do this, let's use the following simplified model. Let's say that each individual remembers the people with whom they initiated contact the previous day. If someone tests positive, then we immediately quarantine their contacts from the prior day for two weeks. These people could still be susceptible after quarantine if they were in the (S) state when quarantined.\n",
    "\n",
    "Implement the contact tracing intervention. Set $14 \\cdot cp = 2$ like we did yesterday. How much do the interventions decrease the spread of the virus?"
   ]
  },
  {
   "cell_type": "code",
   "execution_count": null,
   "metadata": {},
   "outputs": [],
   "source": [
    "# Run experiment here"
   ]
  },
  {
   "cell_type": "markdown",
   "metadata": {},
   "source": [
    "### Discussion points\n",
    "\n",
    "<ol>\n",
    "    <li>What are the biggest simplifications of the intervention models, and how could we address them? \n",
    "        Similarly, how might the intervention models misrepresent certain individuals?</li>\n",
    "    <li>How might we determine the testing frequency $d$ in practice?</li>\n",
    "</ol>"
   ]
  },
  {
   "cell_type": "code",
   "execution_count": null,
   "metadata": {},
   "outputs": [],
   "source": []
  }
 ],
 "metadata": {
  "kernelspec": {
   "display_name": "Python 3",
   "language": "python",
   "name": "python3"
  },
  "language_info": {
   "codemirror_mode": {
    "name": "ipython",
    "version": 3
   },
   "file_extension": ".py",
   "mimetype": "text/x-python",
   "name": "python",
   "nbconvert_exporter": "python",
   "pygments_lexer": "ipython3",
   "version": "3.8.2"
  }
 },
 "nbformat": 4,
 "nbformat_minor": 4
}
